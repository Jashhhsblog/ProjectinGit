{
  "nbformat": 4,
  "nbformat_minor": 0,
  "metadata": {
    "colab": {
      "name": "Assignment1.ipynb",
      "provenance": [],
      "authorship_tag": "ABX9TyPaFTD8e/7FMCy02fe5k/Wx",
      "include_colab_link": true
    },
    "kernelspec": {
      "name": "python3",
      "display_name": "Python 3"
    },
    "language_info": {
      "name": "python"
    }
  },
  "cells": [
    {
      "cell_type": "markdown",
      "metadata": {
        "id": "view-in-github",
        "colab_type": "text"
      },
      "source": [
        "<a href=\"https://colab.research.google.com/github/Jashhhsblog/ProjectinGit/blob/main/Assignment1.ipynb\" target=\"_parent\"><img src=\"https://colab.research.google.com/assets/colab-badge.svg\" alt=\"Open In Colab\"/></a>"
      ]
    },
    {
      "cell_type": "markdown",
      "metadata": {
        "id": "j6YBoH6UTaWM"
      },
      "source": [
        "1. Write a Python program to print the following string in a specific format\n",
        "Sample String : \"Twinkle, twinkle, little star, How I wonder what you are! Up above the world so high, Like a diamond in the sky. Twinkle, twinkle, little star, How I wonder what you are\" \n",
        "\n",
        "Output : \n",
        "Twinkle, twinkle, little star,\n",
        "\t      How I wonder what you are! \n",
        "\t\t              Up above the world so high,   \t\t\n",
        "\t\t              Like a diamond in the sky. \n",
        "  Twinkle, twinkle, little star, \n",
        "\t       How I wonder what you are\n"
      ]
    },
    {
      "cell_type": "code",
      "metadata": {
        "colab": {
          "base_uri": "https://localhost:8080/"
        },
        "id": "fQqjrOOxT6Vt",
        "outputId": "6018af6a-e0e2-4a95-b5d5-894f95274951"
      },
      "source": [
        "print('Twinkle, twinkle, little star,')\n",
        "print('         How I wonder what you are!')\n",
        "print('                Up above the world so high,')\n",
        "print('                Like a diamond in the sky.')\n",
        "print('Twinkle, twinkle, little star,')\n",
        "print('         How I wonder what you are')\n"
      ],
      "execution_count": null,
      "outputs": [
        {
          "output_type": "stream",
          "name": "stdout",
          "text": [
            "Twinkle, twinkle, little star,\n",
            "         How I wonder what you are!\n",
            "                Up above the world so high,\n",
            "                Like a diamond in the sky.\n",
            "Twinkle, twinkle, little star,\n",
            "         How I wonder what you are\n"
          ]
        }
      ]
    },
    {
      "cell_type": "markdown",
      "metadata": {
        "id": "L7BMTzWFUn81"
      },
      "source": [
        "2. Write a Python program which accepts the radius of a circle from the user and compute the area."
      ]
    },
    {
      "cell_type": "code",
      "metadata": {
        "colab": {
          "base_uri": "https://localhost:8080/"
        },
        "id": "AsFQkTnaUte2",
        "outputId": "f393d8b9-488e-4f96-96dc-c1b42048723d"
      },
      "source": [
        "radius = float(input(\"Enter radius of circle\"))\n",
        "area = 3.14*radius*radius\n",
        "print(\"area of circle is \"+str(area))\n"
      ],
      "execution_count": null,
      "outputs": [
        {
          "output_type": "stream",
          "name": "stdout",
          "text": [
            "Enter radius of circle25\n",
            "area of circle is 1962.5\n"
          ]
        }
      ]
    },
    {
      "cell_type": "markdown",
      "metadata": {
        "id": "QIz7lHQgU4D8"
      },
      "source": [
        "3. Display three string “Name”, “Is”, “James” as “Name ** Is ** James”\n",
        "Use the print() function to format the given words in the mentioned format. Display the ** separator between each string.\n",
        "Sample output: Name ** Is ** James\n"
      ]
    },
    {
      "cell_type": "code",
      "metadata": {
        "colab": {
          "base_uri": "https://localhost:8080/"
        },
        "id": "GJRH1_sVU76t",
        "outputId": "a2197627-3342-4ebb-9296-99fa914930bb"
      },
      "source": [
        "print(\"Name\",\"Is\",\"James\",sep=\"**\")"
      ],
      "execution_count": null,
      "outputs": [
        {
          "output_type": "stream",
          "name": "stdout",
          "text": [
            "Name**Is**James\n"
          ]
        }
      ]
    },
    {
      "cell_type": "markdown",
      "metadata": {
        "id": "2IDMdXKsU-xM"
      },
      "source": [
        "4. Write a Python program to get a string from a given string where all occurrences of its first char have been changed to '$', except the first char itself. Sample String : 'restart'\n",
        "\n"
      ]
    },
    {
      "cell_type": "code",
      "metadata": {
        "colab": {
          "base_uri": "https://localhost:8080/"
        },
        "id": "Z7bIs8slVKTq",
        "outputId": "7d15730d-a36f-4fb3-efda-6a4502479ad3"
      },
      "source": [
        "string = input(\"Enter a string : \")\n",
        "char = string[0]\n",
        "length = len(string)\n",
        "string = string.replace(char, '$')\n",
        "string = char + string[1:]\n",
        "print(string)\n"
      ],
      "execution_count": null,
      "outputs": [
        {
          "output_type": "stream",
          "name": "stdout",
          "text": [
            "Enter a string : restart\n",
            "resta$t\n"
          ]
        }
      ]
    },
    {
      "cell_type": "markdown",
      "metadata": {
        "id": "iLNlWzcUVqnk"
      },
      "source": [
        "5. Write a Python program to get a single string from two given strings, separated by a space and swap the first two characters of each string. Sample String : 'abc', 'xyz' \n",
        "Expected Result : 'xyc abz'\n"
      ]
    },
    {
      "cell_type": "code",
      "metadata": {
        "colab": {
          "base_uri": "https://localhost:8080/"
        },
        "id": "dhrEFUiMeGcu",
        "outputId": "d9b1e758-525e-45e4-9280-cf25884b6694"
      },
      "source": [
        "string1=input(\"Enter first string : \")\n",
        "string2 = input(\"Enter second string : \")\n",
        "string = string2[:2]+string1[2:]+\" \"+string1[:2]+string2[2:]\n",
        "print(string)"
      ],
      "execution_count": null,
      "outputs": [
        {
          "output_type": "stream",
          "name": "stdout",
          "text": [
            "Enter first string : xyz\n",
            "Enter second string : abc\n",
            "abzxyc\n"
          ]
        }
      ]
    },
    {
      "cell_type": "markdown",
      "metadata": {
        "id": "mfNsY7lnfpMD"
      },
      "source": [
        "6. Write a Python program to get a single string from two given strings, separated by a space and swap the first two characters of each string. "
      ]
    },
    {
      "cell_type": "markdown",
      "metadata": {
        "id": "XKxrtY8igKpK"
      },
      "source": [
        "7. Write a Python program to remove the characters which have odd index values of a given string."
      ]
    },
    {
      "cell_type": "code",
      "metadata": {
        "colab": {
          "base_uri": "https://localhost:8080/"
        },
        "id": "Ff54PtGUgLiw",
        "outputId": "fe17e702-c264-40dc-b32c-bbaa1d9a8aa8"
      },
      "source": [
        "str1=input(\"Enter string : \")\n",
        "string=\"\"\n",
        "for i in range(len(str1)):\n",
        "    if(i%2==0):\n",
        "      string = string+str1[i]\n",
        "print(string)"
      ],
      "execution_count": null,
      "outputs": [
        {
          "output_type": "stream",
          "name": "stdout",
          "text": [
            "Enter string : jashuu\n",
            "jsu\n"
          ]
        }
      ]
    },
    {
      "cell_type": "markdown",
      "metadata": {
        "id": "J5q09fOfiDU9"
      },
      "source": [
        "8. Write a Python script to add a key to a dictionary. "
      ]
    },
    {
      "cell_type": "code",
      "metadata": {
        "colab": {
          "base_uri": "https://localhost:8080/"
        },
        "id": "HQ5kWtaAsonc",
        "outputId": "8b637f3b-50a1-4cb2-bd9f-4d8e3ab9fd3f"
      },
      "source": [
        "dict =  {1:20,2:30,3:40,4:50}\n",
        "dict.update({7:80})\n",
        "print(dict)"
      ],
      "execution_count": null,
      "outputs": [
        {
          "output_type": "stream",
          "name": "stdout",
          "text": [
            "{1: 20, 2: 30, 3: 40, 4: 50, 7: 80}\n"
          ]
        }
      ]
    },
    {
      "cell_type": "markdown",
      "metadata": {
        "id": "4ZhGT3cDs-vw"
      },
      "source": [
        "9. Write a Python script to concatenate following dictionaries to create a new one. \n",
        "Sample Dictionary : \n",
        "dic1={1:10, 2:20} \n",
        "dic2={3:30, 4:40} \n",
        "dic3={5:50,6:60}\n"
      ]
    },
    {
      "cell_type": "code",
      "metadata": {
        "colab": {
          "base_uri": "https://localhost:8080/"
        },
        "id": "gHirdcoLtDMY",
        "outputId": "a61377e2-44ae-483e-f65b-a17f342cd534"
      },
      "source": [
        "dic1={1:10, 2:20} \n",
        "dic2={3:30, 4:40} \n",
        "dic3={5:50,6:60}\n",
        "dic1.update(dic2)\n",
        "dic1.update(dic3)\n",
        "print(dic1)"
      ],
      "execution_count": null,
      "outputs": [
        {
          "output_type": "stream",
          "name": "stdout",
          "text": [
            "{1: 10, 2: 20, 3: 30, 4: 40, 5: 50, 6: 60}\n"
          ]
        }
      ]
    },
    {
      "cell_type": "markdown",
      "metadata": {
        "id": "X4NeeROrtS3Y"
      },
      "source": [
        "10. Write a Python script to check whether a given key already exists in a dictionary"
      ]
    },
    {
      "cell_type": "code",
      "metadata": {
        "colab": {
          "base_uri": "https://localhost:8080/"
        },
        "id": "zZFBn9bmtV8Z",
        "outputId": "42196b05-8ef1-407c-e8dd-af2b7485b44c"
      },
      "source": [
        "dict={1: 10, 2: 20, 3: 30, 4: 40, 5: 50, 6: 60}\n",
        "i = int(input(\"Enter key :\"))\n",
        "if i in dict:\n",
        "  print(\"Key is present\")\n",
        "else:\n",
        "  print(\"Key isnt present\")\n",
        "  \n"
      ],
      "execution_count": null,
      "outputs": [
        {
          "output_type": "stream",
          "name": "stdout",
          "text": [
            "Enter key :7\n",
            "Key isnt present\n"
          ]
        }
      ]
    },
    {
      "cell_type": "markdown",
      "metadata": {
        "id": "4wOMOyzGuKSp"
      },
      "source": [
        "11. Write a Python program to create a tuple with numbers and print one item"
      ]
    },
    {
      "cell_type": "code",
      "metadata": {
        "colab": {
          "base_uri": "https://localhost:8080/"
        },
        "id": "x7qpDAqAuOo2",
        "outputId": "587d8b40-0eac-4dbc-9fbf-d76af5744397"
      },
      "source": [
        "tuple1=(2,3,4,7,'hi',9)\n",
        "print(tuple1[:1])"
      ],
      "execution_count": null,
      "outputs": [
        {
          "output_type": "stream",
          "name": "stdout",
          "text": [
            "(2,)\n"
          ]
        }
      ]
    },
    {
      "cell_type": "markdown",
      "metadata": {
        "id": "gWy6KYn2ufMa"
      },
      "source": [
        "12. Write a Python program to get the 4th element and 4th element from last of a tuple"
      ]
    },
    {
      "cell_type": "code",
      "metadata": {
        "colab": {
          "base_uri": "https://localhost:8080/"
        },
        "id": "qi_pEg7QvoSw",
        "outputId": "917bc016-c212-4810-a604-9894dd4dcf3d"
      },
      "source": [
        "tuple1=(2,3,4,7,'hi',9)\n",
        "print((tuple1[3]) )\n",
        "print((tuple1[-4]))"
      ],
      "execution_count": null,
      "outputs": [
        {
          "output_type": "stream",
          "name": "stdout",
          "text": [
            "7\n",
            "4\n"
          ]
        }
      ]
    },
    {
      "cell_type": "markdown",
      "metadata": {
        "id": "tmfQtC7hv0rI"
      },
      "source": [
        "13. Write a Python program to convert a list to a tuple."
      ]
    },
    {
      "cell_type": "code",
      "metadata": {
        "colab": {
          "base_uri": "https://localhost:8080/",
          "height": 201
        },
        "id": "6tDINiOQv3J_",
        "outputId": "b7c56523-6fb8-437b-9f3e-4c3b00a0af32"
      },
      "source": [
        "list1 = [2,4,6,8,10,12,14]\n",
        "tuple1 = tuple(list1)\n",
        "print(tuple1)\n"
      ],
      "execution_count": 49,
      "outputs": [
        {
          "output_type": "error",
          "ename": "TypeError",
          "evalue": "ignored",
          "traceback": [
            "\u001b[0;31m---------------------------------------------------------------------------\u001b[0m",
            "\u001b[0;31mTypeError\u001b[0m                                 Traceback (most recent call last)",
            "\u001b[0;32m<ipython-input-49-84b58f683f98>\u001b[0m in \u001b[0;36m<module>\u001b[0;34m()\u001b[0m\n\u001b[1;32m      1\u001b[0m \u001b[0mlist1\u001b[0m \u001b[0;34m=\u001b[0m \u001b[0;34m[\u001b[0m\u001b[0;36m2\u001b[0m\u001b[0;34m,\u001b[0m\u001b[0;36m4\u001b[0m\u001b[0;34m,\u001b[0m\u001b[0;36m6\u001b[0m\u001b[0;34m,\u001b[0m\u001b[0;36m8\u001b[0m\u001b[0;34m,\u001b[0m\u001b[0;36m10\u001b[0m\u001b[0;34m,\u001b[0m\u001b[0;36m12\u001b[0m\u001b[0;34m,\u001b[0m\u001b[0;36m14\u001b[0m\u001b[0;34m]\u001b[0m\u001b[0;34m\u001b[0m\u001b[0;34m\u001b[0m\u001b[0m\n\u001b[0;32m----> 2\u001b[0;31m \u001b[0mtuple1\u001b[0m \u001b[0;34m=\u001b[0m \u001b[0mtuple\u001b[0m\u001b[0;34m(\u001b[0m\u001b[0mlist1\u001b[0m\u001b[0;34m)\u001b[0m\u001b[0;34m\u001b[0m\u001b[0;34m\u001b[0m\u001b[0m\n\u001b[0m\u001b[1;32m      3\u001b[0m \u001b[0mprint\u001b[0m\u001b[0;34m(\u001b[0m\u001b[0mtuple1\u001b[0m\u001b[0;34m)\u001b[0m\u001b[0;34m\u001b[0m\u001b[0;34m\u001b[0m\u001b[0m\n",
            "\u001b[0;31mTypeError\u001b[0m: 'tuple' object is not callable"
          ]
        }
      ]
    },
    {
      "cell_type": "markdown",
      "metadata": {
        "id": "24lALsJEymGB"
      },
      "source": [
        "14. Write a Python program to calculate the average value of the numbers in a given tuple of tuples. "
      ]
    },
    {
      "cell_type": "code",
      "metadata": {
        "colab": {
          "base_uri": "https://localhost:8080/",
          "height": 218
        },
        "id": "3shHRqAAzFUp",
        "outputId": "037599d4-5977-4fde-b548-2f31b9b4cd97"
      },
      "source": [
        "tuple1=((10,20),(30,40),(50,60))\n",
        "result=[]\n",
        "for i in tuple1:\n",
        "  avg = sum(i)/len(i)\n",
        "  result.append(avg)\n",
        "result = tuple(result)\n",
        "print(result)"
      ],
      "execution_count": 50,
      "outputs": [
        {
          "output_type": "error",
          "ename": "TypeError",
          "evalue": "ignored",
          "traceback": [
            "\u001b[0;31m---------------------------------------------------------------------------\u001b[0m",
            "\u001b[0;31mTypeError\u001b[0m                                 Traceback (most recent call last)",
            "\u001b[0;32m<ipython-input-50-e60331637406>\u001b[0m in \u001b[0;36m<module>\u001b[0;34m()\u001b[0m\n\u001b[1;32m      4\u001b[0m   \u001b[0mavg\u001b[0m \u001b[0;34m=\u001b[0m \u001b[0msum\u001b[0m\u001b[0;34m(\u001b[0m\u001b[0mi\u001b[0m\u001b[0;34m)\u001b[0m\u001b[0;34m/\u001b[0m\u001b[0mlen\u001b[0m\u001b[0;34m(\u001b[0m\u001b[0mi\u001b[0m\u001b[0;34m)\u001b[0m\u001b[0;34m\u001b[0m\u001b[0;34m\u001b[0m\u001b[0m\n\u001b[1;32m      5\u001b[0m   \u001b[0mresult\u001b[0m\u001b[0;34m.\u001b[0m\u001b[0mappend\u001b[0m\u001b[0;34m(\u001b[0m\u001b[0mavg\u001b[0m\u001b[0;34m)\u001b[0m\u001b[0;34m\u001b[0m\u001b[0;34m\u001b[0m\u001b[0m\n\u001b[0;32m----> 6\u001b[0;31m \u001b[0mresult\u001b[0m \u001b[0;34m=\u001b[0m \u001b[0mtuple\u001b[0m\u001b[0;34m(\u001b[0m\u001b[0mresult\u001b[0m\u001b[0;34m)\u001b[0m\u001b[0;34m\u001b[0m\u001b[0;34m\u001b[0m\u001b[0m\n\u001b[0m\u001b[1;32m      7\u001b[0m \u001b[0mprint\u001b[0m\u001b[0;34m(\u001b[0m\u001b[0mresult\u001b[0m\u001b[0;34m)\u001b[0m\u001b[0;34m\u001b[0m\u001b[0;34m\u001b[0m\u001b[0m\n",
            "\u001b[0;31mTypeError\u001b[0m: 'tuple' object is not callable"
          ]
        }
      ]
    }
  ]
}